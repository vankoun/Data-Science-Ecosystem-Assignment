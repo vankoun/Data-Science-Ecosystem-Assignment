{
 "cells": [
  {
   "cell_type": "markdown",
   "id": "f8e92dff-760d-478d-bc0f-fec5b4a9818f",
   "metadata": {},
   "source": [
    "# Data Science Tools and Ecosystems"
   ]
  },
  {
   "cell_type": "markdown",
   "id": "c9d56b88-9c00-4ac3-a7b4-c3304890dd1e",
   "metadata": {},
   "source": [
    "*In this notebook, Data Science Tools and Ecosystems are summarized*"
   ]
  },
  {
   "cell_type": "markdown",
   "id": "3b4f5610-3dc9-4a98-8d7d-d30551ededd5",
   "metadata": {},
   "source": [
    "Objectives:\n",
    "- List popular Languages for Data Science\n",
    "- Practice expression evaluation in Jupyter\n",
    "- List commonly used libraries for Data Science"
   ]
  },
  {
   "cell_type": "markdown",
   "id": "4897690d-64aa-41af-94a1-a9fa91546c31",
   "metadata": {},
   "source": [
    "1. R\n",
    "2. Python\n",
    "3. SQL"
   ]
  },
  {
   "cell_type": "markdown",
   "id": "3a43ae4a-230b-46eb-980a-c937d67afb33",
   "metadata": {},
   "source": [
    "1. Pandas\n",
    "2. Seaborn\n",
    "3. TensorFlow"
   ]
  },
  {
   "cell_type": "markdown",
   "id": "d3da6fed-4a39-4435-b69f-78c9bcfc6579",
   "metadata": {},
   "source": [
    "| Data Science Tools |\n",
    "| -------------------|\n",
    "|IBM Watson Studio|\n",
    "|IBM AutoAI|\n",
    "|IBM Watson OpenScale|"
   ]
  },
  {
   "cell_type": "markdown",
   "id": "84b77d37-1147-43e0-a4db-91c72b68c409",
   "metadata": {},
   "source": [
    "### Below are a few examples of evaluating arithmetic expressions in Python"
   ]
  },
  {
   "cell_type": "markdown",
   "id": "8607285b-5efe-4208-8b42-bf650861b338",
   "metadata": {
    "jp-MarkdownHeadingCollapsed": true
   },
   "source": [
    "This a simple arithmetic expression to mutiply then add integers"
   ]
  },
  {
   "cell_type": "code",
   "execution_count": 31,
   "id": "84352aee-bfff-4952-b8ed-39abbd36ebcb",
   "metadata": {},
   "outputs": [
    {
     "data": {
      "text/plain": [
       "17"
      ]
     },
     "execution_count": 31,
     "metadata": {},
     "output_type": "execute_result"
    }
   ],
   "source": [
    "(3*4)+5"
   ]
  },
  {
   "cell_type": "markdown",
   "id": "22c5f6c1-9d10-4ba7-8c58-1cc1fd7a3d8b",
   "metadata": {},
   "source": [
    "This will convert 200 minutes to hours by diving by 60"
   ]
  },
  {
   "cell_type": "code",
   "execution_count": 33,
   "id": "efc3ce50-367d-401b-987b-50a155d456f5",
   "metadata": {},
   "outputs": [
    {
     "data": {
      "text/plain": [
       "3.3333333333333335"
      ]
     },
     "execution_count": 33,
     "metadata": {},
     "output_type": "execute_result"
    }
   ],
   "source": [
    "200/60"
   ]
  },
  {
   "cell_type": "markdown",
   "id": "243d017c-df39-49ad-b095-1155db62c115",
   "metadata": {},
   "source": [
    "## Author"
   ]
  },
  {
   "cell_type": "markdown",
   "id": "36063c47-31d5-481e-b982-6d8c9614ea5f",
   "metadata": {},
   "source": [
    "Vanessa Kountakis"
   ]
  }
 ],
 "metadata": {
  "kernelspec": {
   "display_name": "Python [conda env:base] *",
   "language": "python",
   "name": "conda-base-py"
  },
  "language_info": {
   "codemirror_mode": {
    "name": "ipython",
    "version": 3
   },
   "file_extension": ".py",
   "mimetype": "text/x-python",
   "name": "python",
   "nbconvert_exporter": "python",
   "pygments_lexer": "ipython3",
   "version": "3.12.7"
  }
 },
 "nbformat": 4,
 "nbformat_minor": 5
}
